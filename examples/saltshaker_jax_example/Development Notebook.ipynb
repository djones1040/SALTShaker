{
 "cells": [
  {
   "cell_type": "code",
   "execution_count": null,
   "id": "5363cfa4",
   "metadata": {},
   "outputs": [],
   "source": [
    "import argparse\n",
    "import configparser\n",
    "import numpy as np\n",
    "import sys\n",
    "import pickle\n",
    "import copy\n",
    "\n",
    "import os\n",
    "from os import path\n",
    "import subprocess\n",
    "\n",
    "from saltshaker.util import snana,readutils\n",
    "from saltshaker.util.estimate_tpk_bazin import estimate_tpk_bazin\n",
    "from saltshaker.util.txtobj import txtobj\n",
    "\n",
    "from saltshaker.training.init_hsiao import init_hsiao, init_kaepora, init_errs,init_errs_percent,init_custom,init_salt2\n",
    "\n",
    "from saltshaker.training.TrainSALT import TrainSALT,RunTraining\n",
    "\n",
    "from saltshaker.training.saltfit import fitting\n",
    "from saltshaker.training import saltfit as saltfit\n",
    "\n",
    "from saltshaker.data import data_rootdir\n",
    "from saltshaker.initfiles import init_rootdir\n",
    "from saltshaker.config import config_rootdir,loggerconfig\n",
    "\n",
    "import astropy.units as u\n",
    "\n",
    "from astropy.table import Table\n",
    "from saltshaker.initfiles import init_rootdir as salt2dir\n",
    "_flatnu=f'{init_rootdir}/flatnu.dat'\n",
    "\n",
    "# validation utils\n",
    "import logging\n",
    "log=logging.getLogger(__name__)\n",
    "from matplotlib import pyplot as plt\n",
    "\n",
    "from scipy.sparse import linalg as sprslinalg\n",
    "\n",
    "%matplotlib inline\n"
   ]
  },
  {
   "cell_type": "code",
   "execution_count": null,
   "id": "d19c8db8",
   "metadata": {},
   "outputs": [],
   "source": [
    "from importlib import reload\n",
    "\n",
    "from saltshaker.training import TrainSALT as ts\n",
    "ts=reload(ts)\n",
    "RunTraining=ts.RunTraining"
   ]
  },
  {
   "cell_type": "code",
   "execution_count": null,
   "id": "c720ad32",
   "metadata": {},
   "outputs": [],
   "source": [
    "salt = TrainSALT()\n",
    "\n",
    "parser = argparse.ArgumentParser(usage='', conflict_handler=\"resolve\",add_help=False)\n",
    "parser.add_argument('configpositional',nargs='?',default=None,type=str,help='configuration file')\n",
    "parser.add_argument('-c','--configfile', default=None, type=str,\n",
    "                    help='configuration file')\n",
    "\n",
    "options, args = parser.parse_known_args(['testing.conf'])\n",
    "\n",
    "RunTraining().get_config_options(salt,options.configfile,options.configpositional,['testing.conf'] )\n"
   ]
  },
  {
   "cell_type": "code",
   "execution_count": null,
   "id": "112edfd5",
   "metadata": {},
   "outputs": [],
   "source": [
    "salt.options"
   ]
  },
  {
   "cell_type": "code",
   "execution_count": null,
   "id": "22ca9e74",
   "metadata": {},
   "outputs": [],
   "source": []
  },
  {
   "cell_type": "code",
   "execution_count": null,
   "id": "7170312d",
   "metadata": {},
   "outputs": [],
   "source": [
    "salt.options.resume_from_outputdir=True"
   ]
  },
  {
   "cell_type": "code",
   "execution_count": null,
   "id": "f3cbb52a",
   "metadata": {},
   "outputs": [],
   "source": [
    "import time\n",
    "\n",
    "stage='initialization'\n",
    "if not len(salt.surveylist):\n",
    "    raise RuntimeError('surveys are not defined - see documentation')\n",
    "tkstart = time.time()\n",
    "salt.kcordict=readutils.rdkcor(salt.surveylist,salt.options)\n",
    "log.info(f'took {time.time()-tkstart:.3f} to read in kcor files')\n",
    "# TODO: ASCII filter files\n",
    "\n",
    "if not os.path.exists(salt.options.outputdir):\n",
    "    os.makedirs(salt.options.outputdir)\n",
    "if salt.options.binspec:\n",
    "    binspecres = salt.options.binspecres\n",
    "else:\n",
    "    binspecres = None\n",
    "\n",
    "tdstart = time.time()\n",
    "datadict = readutils.rdAllData(salt.options.snlists,salt.options.estimate_tpk,\n",
    "                               dospec=salt.options.dospec,\n",
    "                               peakmjdlist=salt.options.tmaxlist,\n",
    "                               binspecres=binspecres,snparlist=salt.options.snparlist,maxsn=salt.options.maxsn)\n",
    "log.info(f'took {time.time()-tdstart:.3f} to read in data files')\n",
    "tcstart = time.time()\n",
    "\n",
    "datadict = salt.mkcuts(datadict)[0]\n",
    "log.info(f'took {time.time()-tcstart:.3f} to apply cuts')\n",
    "\n",
    "\n",
    "phasebins=np.linspace(*salt.options.phaserange,int((salt.options.phaserange[1]-salt.options.phaserange[0])/salt.options.phasesplineres)+1,True)\n",
    "wavebins=np.linspace(*salt.options.waverange,int((salt.options.waverange[1]-salt.options.waverange[0])/salt.options.wavesplineres)+1,True)\n"
   ]
  },
  {
   "cell_type": "code",
   "execution_count": null,
   "id": "4cd5c91f",
   "metadata": {},
   "outputs": [],
   "source": [
    "salt.options.snlists+"
   ]
  },
  {
   "cell_type": "code",
   "execution_count": null,
   "id": "3332c7ac",
   "metadata": {},
   "outputs": [],
   "source": [
    "parlist,x_modelpars,phaseknotloc,waveknotloc,errphaseknotloc,errwaveknotloc = salt.initialParameters(datadict)\n",
    "\n",
    "saltfitkwargs = salt.get_saltkw(phaseknotloc,waveknotloc,errphaseknotloc,errwaveknotloc)\n",
    "n_phaseknots,n_waveknots = len(phaseknotloc)-4,len(waveknotloc)-4\n",
    "n_errphaseknots,n_errwaveknots = len(errphaseknotloc)-4,len(errwaveknotloc)-4\n"
   ]
  },
  {
   "cell_type": "code",
   "execution_count": null,
   "id": "12736830",
   "metadata": {},
   "outputs": [],
   "source": [
    "X=x_modelpars"
   ]
  },
  {
   "cell_type": "code",
   "execution_count": null,
   "id": "c5a7028e",
   "metadata": {},
   "outputs": [],
   "source": [
    "saltfit=reload(saltfit)\n",
    "\n",
    "saltfitkwargs['regularize'] = salt.options.regularize\n",
    "saltfitkwargs['fitting_sequence'] = salt.options.fitting_sequence\n",
    "sf = saltfit.GaussNewton(x_modelpars,{x:datadict[x] for x in list(datadict.keys())},parlist,**saltfitkwargs)\n"
   ]
  },
  {
   "cell_type": "code",
   "execution_count": null,
   "id": "61f9fb9b",
   "metadata": {},
   "outputs": [],
   "source": [
    "Xmodded=X.copy()\n",
    "Xmodded[sf.imodelerr]/=4\n",
    "\n",
    "\n",
    "#Xfit=sf.iterativelyfiterrmodel(Xmodded)\n",
    "sf.getChi2Contributions(Xfit)"
   ]
  },
  {
   "cell_type": "code",
   "execution_count": null,
   "id": "5a3cdfec",
   "metadata": {},
   "outputs": [],
   "source": [
    "Xmodded=Xfit.copy()\n",
    "Xmodded[sf.imodelerr]/=1.4\n",
    "\n",
    "sf.getChi2Contributions(Xmodded)"
   ]
  },
  {
   "cell_type": "code",
   "execution_count": null,
   "id": "ec13639e",
   "metadata": {},
   "outputs": [],
   "source": [
    "result=sf.iterativelyfiterrmodel(Xmodded)\n",
    "sf.getChi2Contributions(result)"
   ]
  },
  {
   "cell_type": "code",
   "execution_count": null,
   "id": "ed00cd14",
   "metadata": {},
   "outputs": [],
   "source": [
    "lc=sf.datadict['2004ef'].photdata['CSP-B/u']"
   ]
  },
  {
   "cell_type": "code",
   "execution_count": null,
   "id": "f6c0eaba",
   "metadata": {},
   "outputs": [],
   "source": [
    "lc.modelloglikelihood(Xmodded),lc.modelresidual(Xmodded)"
   ]
  },
  {
   "cell_type": "code",
   "execution_count": null,
   "id": "99c2359c",
   "metadata": {},
   "outputs": [],
   "source": [
    "photresids=sf.batchedphotresiduals(X)\n",
    "\n",
    "(photresids==0).sum()"
   ]
  },
  {
   "cell_type": "code",
   "execution_count": null,
   "id": "6727c7da",
   "metadata": {},
   "outputs": [],
   "source": [
    "sources=np.array(sf.lsqwrap_sources(X,uncertainties))\n",
    "sources=np.array([x.split('_')[0] for x in  sources])"
   ]
  },
  {
   "cell_type": "code",
   "execution_count": null,
   "id": "a56964cd",
   "metadata": {},
   "outputs": [],
   "source": [
    "(sources=='phot').sum()"
   ]
  },
  {
   "cell_type": "code",
   "execution_count": null,
   "id": "8db3cc88",
   "metadata": {},
   "outputs": [],
   "source": [
    "sf.getChi2Contributions(X)"
   ]
  },
  {
   "cell_type": "code",
   "execution_count": null,
   "id": "314fac82",
   "metadata": {},
   "outputs": [],
   "source": [
    "sf.num_spec"
   ]
  },
  {
   "cell_type": "code",
   "execution_count": null,
   "id": "45cc0649",
   "metadata": {},
   "outputs": [],
   "source": [
    "photresids.size"
   ]
  },
  {
   "cell_type": "code",
   "execution_count": null,
   "id": "0f312c45",
   "metadata": {},
   "outputs": [],
   "source": [
    "residuals=lc.modelresidual(Xfit)['residuals']\n",
    "\n",
    "(residuals**2).sum()"
   ]
  },
  {
   "cell_type": "code",
   "execution_count": null,
   "id": "1ea23533",
   "metadata": {},
   "outputs": [],
   "source": [
    "(residuals!=0).sum()"
   ]
  },
  {
   "cell_type": "code",
   "execution_count": null,
   "id": "05adbf15",
   "metadata": {},
   "outputs": [],
   "source": [
    "sf.maxlikefit(Xmodded),sf.maxlikefit(Xfit)"
   ]
  },
  {
   "cell_type": "code",
   "execution_count": null,
   "id": "80a96e47",
   "metadata": {},
   "outputs": [],
   "source": [
    "uncertainties=sf.calculatecachedvals(x_modelpars,target='variances')\n",
    "\n"
   ]
  },
  {
   "cell_type": "code",
   "execution_count": null,
   "id": "c3ba5db4",
   "metadata": {},
   "outputs": [],
   "source": [
    "resids=sf.lsqwrap(X,uncertainties)"
   ]
  },
  {
   "cell_type": "code",
   "execution_count": null,
   "id": "924a5c17",
   "metadata": {},
   "outputs": [],
   "source": [
    "result=sf.process_fit(X,sf.iModelParam,uncertainties)"
   ]
  },
  {
   "cell_type": "code",
   "execution_count": null,
   "id": "4d88b321",
   "metadata": {},
   "outputs": [],
   "source": [
    "includepars=np.zeros(sf.npar,dtype=bool)\n",
    "\n",
    "includepars[[sf.imodelerr0[33],sf.imodelerr1[33],sf.imodelcorr01[33]]]=True"
   ]
  },
  {
   "cell_type": "code",
   "execution_count": null,
   "id": "efa86b28",
   "metadata": {},
   "outputs": [],
   "source": [
    "includepars.sum()"
   ]
  },
  {
   "cell_type": "code",
   "execution_count": null,
   "id": "ed681e5d",
   "metadata": {},
   "outputs": [],
   "source": [
    "from saltshaker.training import saltfit\n",
    "\n",
    "saltfit=reload(saltfit)\n",
    "\n",
    "sf.minuitoptimize=lambda *args,**kwargs: saltfit.GaussNewton.minuitoptimize(sf,*args,**kwargs)\n",
    "result=sf.minuitoptimize(X,includepars)"
   ]
  },
  {
   "cell_type": "code",
   "execution_count": null,
   "id": "508f3c83",
   "metadata": {},
   "outputs": [],
   "source": [
    "iterate=sf.iterativelyfiterrmodel(X)"
   ]
  },
  {
   "cell_type": "code",
   "execution_count": null,
   "id": "c5712767",
   "metadata": {},
   "outputs": [],
   "source": [
    "seciterate=sf.iterativelyfiterrmodel(iterate)\n"
   ]
  },
  {
   "cell_type": "code",
   "execution_count": null,
   "id": "26c4d0f2",
   "metadata": {},
   "outputs": [],
   "source": [
    "sf.getChi2Contributions(seciterate)"
   ]
  },
  {
   "cell_type": "code",
   "execution_count": null,
   "id": "3a9987e9",
   "metadata": {},
   "outputs": [],
   "source": [
    "X[includepars],result[0][includepars],result[1]"
   ]
  },
  {
   "cell_type": "code",
   "execution_count": null,
   "id": "b0384858",
   "metadata": {},
   "outputs": [],
   "source": [
    "result[0]"
   ]
  },
  {
   "cell_type": "code",
   "execution_count": null,
   "id": "1c5708a3",
   "metadata": {},
   "outputs": [],
   "source": [
    "sf.maxlikefit(X),sf.maxlikefit(iterate)"
   ]
  },
  {
   "cell_type": "code",
   "execution_count": null,
   "id": "358ca0dc",
   "metadata": {},
   "outputs": [],
   "source": [
    "with open('output/gaussnewtonhistory.pickle','rb') as file:\n",
    "    history=pickle.load(file)"
   ]
  },
  {
   "cell_type": "code",
   "execution_count": null,
   "id": "2972cf2c",
   "metadata": {},
   "outputs": [],
   "source": [
    "X=np.array(history[-1][0])"
   ]
  },
  {
   "cell_type": "code",
   "execution_count": null,
   "id": "a8e6fba0",
   "metadata": {},
   "outputs": [],
   "source": [
    "Xfit=sf.iterativelyfiterrmodel(X)\n",
    "sf.getChi2Contributions(Xfit)"
   ]
  },
  {
   "cell_type": "code",
   "execution_count": null,
   "id": "1a2196f0",
   "metadata": {},
   "outputs": [],
   "source": []
  },
  {
   "cell_type": "code",
   "execution_count": null,
   "id": "b9def1c8",
   "metadata": {},
   "outputs": [],
   "source": []
  },
  {
   "cell_type": "code",
   "execution_count": null,
   "id": "e250aeb7",
   "metadata": {},
   "outputs": [],
   "source": [
    "uncertainties=sf.calculatecachedvals(X,target='variances')"
   ]
  },
  {
   "cell_type": "code",
   "execution_count": null,
   "id": "cdac4eed",
   "metadata": {},
   "outputs": [],
   "source": [
    "[[np.isnan(y).any() for y in x]for x in uncertainties]"
   ]
  },
  {
   "cell_type": "code",
   "execution_count": null,
   "id": "c10e864d",
   "metadata": {},
   "outputs": [],
   "source": [
    "X[sf.iclscat[-1]]=-np.inf"
   ]
  },
  {
   "cell_type": "code",
   "execution_count": null,
   "id": "57a4fe29",
   "metadata": {},
   "outputs": [],
   "source": [
    "resids=sf.batchedphotlikelihood(X)"
   ]
  },
  {
   "cell_type": "code",
   "execution_count": null,
   "id": "2653e5b5",
   "metadata": {},
   "outputs": [],
   "source": [
    "resids"
   ]
  },
  {
   "cell_type": "code",
   "execution_count": null,
   "id": "dbedbcdf",
   "metadata": {},
   "outputs": [],
   "source": [
    "sf.maxlikefit(Xmodded),sf.maxlikefit(X)"
   ]
  },
  {
   "cell_type": "code",
   "execution_count": null,
   "id": "0bbbf935",
   "metadata": {},
   "outputs": [],
   "source": [
    "sf.getChi2Contributions(X)"
   ]
  },
  {
   "cell_type": "code",
   "execution_count": null,
   "id": "4aa8e482",
   "metadata": {},
   "outputs": [],
   "source": [
    "def gradient_descent(\n",
    "    gradient,  init, learn_rate=0.1, n_iter=50, tolerance=1e-06,\n",
    "    dtype=\"float64\"):\n",
    "\n",
    "    # Checking if the gradient is callable\n",
    "    if not callable(gradient):\n",
    "        raise TypeError(\"'gradient' must be callable\")\n",
    "\n",
    "    # Setting up the data type for NumPy arrays\n",
    "    dtype_ = np.dtype(dtype)\n",
    "\n",
    "    # Initializing the values of the variables\n",
    "    vector = np.array(init, dtype=dtype_)\n",
    "\n",
    "    # Setting up and checking the learning rate\n",
    "    learn_rate = np.array(learn_rate, dtype=dtype_)\n",
    "    if np.any(learn_rate <= 0):\n",
    "        raise ValueError(\"'learn_rate' must be greater than zero\")\n",
    "\n",
    "    # Setting up and checking the maximal number of iterations\n",
    "    n_iter = int(n_iter)\n",
    "    if n_iter <= 0:\n",
    "        raise ValueError(\"'n_iter' must be greater than zero\")\n",
    "\n",
    "    # Setting up and checking the tolerance\n",
    "    tolerance = np.array(tolerance, dtype=dtype_)\n",
    "    if np.any(tolerance <= 0):\n",
    "        raise ValueError(\"'tolerance' must be greater than zero\")\n",
    "\n",
    "    # Performing the gradient descent loop\n",
    "    for _ in range(n_iter):\n",
    "        # Recalculating the difference\n",
    "        diff = -learn_rate * np.array(gradient( vector), dtype_)\n",
    "\n",
    "        # Checking if the absolute difference is small enough\n",
    "        if np.all(np.abs(diff) <= tolerance):\n",
    "            break\n",
    "\n",
    "        # Updating the values of the variables\n",
    "        vector += diff\n",
    "    return vector"
   ]
  },
  {
   "cell_type": "code",
   "execution_count": null,
   "id": "48158b70",
   "metadata": {},
   "outputs": [],
   "source": [
    "gradient_descent(lambda x: sf.maxlikefit(x,cachedresults=uncertainties,fixuncertainties=True,diff='grad'),X)"
   ]
  },
  {
   "cell_type": "code",
   "execution_count": null,
   "id": "b0e341c8",
   "metadata": {},
   "outputs": [],
   "source": [
    "sf.minuitoptimize(result[0],sf.fitOptions['2005bo'][1])"
   ]
  },
  {
   "cell_type": "markdown",
   "id": "dad0de9a",
   "metadata": {},
   "source": []
  },
  {
   "cell_type": "code",
   "execution_count": null,
   "id": "0e1f8745",
   "metadata": {},
   "outputs": [],
   "source": [
    "jshape=resids.size,sf.npar\n",
    "args,kwargs=[x_modelpars,uncertainties],{}\n",
    "jaclinop=sprslinalg.LinearOperator(matvec = lambda x: (sf.lsqwrap(*args,**kwargs,diff='jvp',jit=True)( (x) )) ,\n",
    "\n",
    "                                 rmatvec= lambda x: (sf.lsqwrap(*args,**kwargs,diff='vjp',jit=True)(x)) ,shape=(jshape))\n"
   ]
  },
  {
   "cell_type": "code",
   "execution_count": null,
   "id": "73972c69",
   "metadata": {},
   "outputs": [],
   "source": [
    "# sf.rngkey=jax.random.PRNGKey(18327534917853348)\n",
    "# sf.randomvjpevalfuns={}`\n",
    "\n",
    "saltfit=reload(saltfit)\n",
    "# sf.evalrandomvjp= lambda *args,**kwargs: saltfit.GaussNewton.evalrandomvjp(sf,*args,**kwargs)\n",
    "sf.iteratedampings= lambda *args,**kwargs: saltfit.GaussNewton.iteratedampings(sf,*args,**kwargs)\n",
    "\n"
   ]
  },
  {
   "cell_type": "code",
   "execution_count": null,
   "id": "81682116",
   "metadata": {},
   "outputs": [],
   "source": [
    "sf.pre"
   ]
  },
  {
   "cell_type": "code",
   "execution_count": null,
   "id": "eda6f76b",
   "metadata": {},
   "outputs": [],
   "source": [
    "sf.vectorizedstochasticbinormpreconditioning(sf.iModelParam,X,uncertainties)"
   ]
  },
  {
   "cell_type": "code",
   "execution_count": null,
   "id": "237fec39",
   "metadata": {},
   "outputs": [],
   "source": []
  },
  {
   "cell_type": "code",
   "execution_count": null,
   "id": "88221e34",
   "metadata": {},
   "outputs": [],
   "source": [
    "%timeit sf.maxlikefit(X,uncertainties,fixuncertainties=True,diff='grad')"
   ]
  },
  {
   "cell_type": "code",
   "execution_count": null,
   "id": "a7973c78",
   "metadata": {},
   "outputs": [],
   "source": [
    "sf.im0"
   ]
  },
  {
   "cell_type": "code",
   "execution_count": null,
   "id": "c63bce49",
   "metadata": {},
   "outputs": [],
   "source": [
    "sf.minuitoptimize(X,sf.im0, cachedresults=uncertainties,fixuncertainties=True)"
   ]
  },
  {
   "cell_type": "code",
   "execution_count": null,
   "id": "2e082ed3",
   "metadata": {},
   "outputs": [],
   "source": [
    "        if staticargs in self.randomvjpevalfuns: \n",
    "            preconevalfun= self.randomvjpevalfuns[staticargs]\n",
    "            \n",
    "        else:\n",
    "            preconevalfun = jax.jit(jax.vmap(lambda parindex,x,y: self.evalrandomvjp(parindex,x,y,*staticargs),\n",
    "            \n",
    "                    in_axes=(0,None,[[None]*len(self.batchedphotdata),[None]*len(self.batchedspecdata)])))\n",
    "                    \n",
    "            self.randomvjpevalfuns[staticargs]=preconevalfun\n"
   ]
  },
  {
   "cell_type": "code",
   "execution_count": null,
   "id": "c62c1bac",
   "metadata": {},
   "outputs": [],
   "source": [
    "key=jax.random.PRNGKey(18327534917853348)\n",
    "\n",
    "nextkey,veckey=jax.random.split(key,2)\n",
    "\n",
    "veckey=jax.random.split(veckey,100)"
   ]
  },
  {
   "cell_type": "code",
   "execution_count": null,
   "id": "edec32c3",
   "metadata": {},
   "outputs": [],
   "source": [
    "args,kwargs=[X,uncertainties],{}"
   ]
  },
  {
   "cell_type": "code",
   "execution_count": null,
   "id": "7a0e7108",
   "metadata": {},
   "outputs": [],
   "source": [
    "calcrandomvjp=jax.jit(jax.vmap(lambda key: ))\n",
    "\n",
    "\n"
   ]
  },
  {
   "cell_type": "code",
   "execution_count": null,
   "id": "10baaf7d",
   "metadata": {},
   "outputs": [],
   "source": [
    "%timeit calcrandomvjp(veckey)\n"
   ]
  },
  {
   "cell_type": "code",
   "execution_count": null,
   "id": "38b90b21",
   "metadata": {},
   "outputs": [],
   "source": [
    "binormprecon=stochasticbinormpreconditioning(sf,sf.iModelParam,X,uncertainties)\n",
    "plt.hist((np.log10(binormprecon[1])-np.log10(preconditioning)[sf.iModelParam]) )\n"
   ]
  },
  {
   "cell_type": "code",
   "execution_count": null,
   "id": "2f1aa1b6",
   "metadata": {},
   "outputs": [],
   "source": [
    "plt.plot(convergencelog)\n",
    "plt.yscale('log')"
   ]
  },
  {
   "cell_type": "code",
   "execution_count": null,
   "id": "4fccc885",
   "metadata": {},
   "outputs": [],
   "source": []
  },
  {
   "cell_type": "code",
   "execution_count": null,
   "id": "fc729bea",
   "metadata": {},
   "outputs": [],
   "source": [
    "sf.parlist[sf.iModelParam][(binormprecon[1])>1e10].size"
   ]
  },
  {
   "cell_type": "code",
   "execution_count": null,
   "id": "c9f58789",
   "metadata": {},
   "outputs": [],
   "source": [
    "np.median(binormprecon[1])"
   ]
  },
  {
   "cell_type": "code",
   "execution_count": null,
   "id": "c5e1cb48",
   "metadata": {},
   "outputs": [],
   "source": [
    "sf.parlist[np.where(preconditioning==np.median(preconditioning))]"
   ]
  },
  {
   "cell_type": "code",
   "execution_count": null,
   "id": "ead0499c",
   "metadata": {},
   "outputs": [],
   "source": [
    "jacobian,preconinv=constructoperator(sf,binormprecon,sf.iModelParam,X,uncertainties)"
   ]
  },
  {
   "cell_type": "code",
   "execution_count": null,
   "id": "1807d4c2",
   "metadata": {},
   "outputs": [],
   "source": [
    "result=gaussNewtonFit(sf,X,jacobian,preconinv,resids ,0.18,[[uncertainties],{}])\n"
   ]
  },
  {
   "cell_type": "code",
   "execution_count": null,
   "id": "eb2108b1",
   "metadata": {},
   "outputs": [],
   "source": [
    "result"
   ]
  },
  {
   "cell_type": "code",
   "execution_count": null,
   "id": "95c783d2",
   "metadata": {},
   "outputs": [],
   "source": []
  },
  {
   "cell_type": "code",
   "execution_count": null,
   "id": "bd35d31e",
   "metadata": {},
   "outputs": [],
   "source": [
    "(sf.lsqwrap(X-preconinv(result.lsmrresult.precondstep),uncertainties))"
   ]
  },
  {
   "cell_type": "code",
   "execution_count": null,
   "id": "a2e8b0cf",
   "metadata": {},
   "outputs": [],
   "source": [
    "sf.lsqwrap(X,uncertainties)"
   ]
  },
  {
   "cell_type": "code",
   "execution_count": null,
   "id": "d792ea43",
   "metadata": {},
   "outputs": [],
   "source": []
  },
  {
   "cell_type": "code",
   "execution_count": null,
   "id": "16e7dfc7",
   "metadata": {},
   "outputs": [],
   "source": [
    "\n",
    "\n"
   ]
  },
  {
   "cell_type": "code",
   "execution_count": null,
   "id": "e5ef91d7",
   "metadata": {},
   "outputs": [],
   "source": [
    "from tqdm.notebook import tqdm,trange"
   ]
  },
  {
   "cell_type": "code",
   "execution_count": null,
   "id": "4cb2e18d",
   "metadata": {},
   "outputs": [],
   "source": [
    "(jaclinop.T @ r).size"
   ]
  },
  {
   "cell_type": "code",
   "execution_count": null,
   "id": "48924e28",
   "metadata": {},
   "outputs": [],
   "source": [
    "for k in trange(nmv):\n",
    "    omega=2**(-max(min(np.floor(np.log2(k+1))-1,4),1))\n",
    "    \n",
    "    s=np.random.normal(size=jshape[1])/np.sqrt(c)\n",
    "    y= jaclinop @ s\n",
    "    r= (1-omega)*r/r.sum() + omega* y**2 / (y**2).sum()\n",
    "    \n",
    "    s= np.random.normal(size=(jshape[0])) / np.sqrt(r)\n",
    "    y= jaclinop.T @ s\n",
    "    c=(1-omega)*c/c.sum() + omega*y**2 /(y**2).sum()\n",
    "\n",
    "x=1/np.sqrt(r)\n",
    "y=1/np.sqrt(c)"
   ]
  },
  {
   "cell_type": "code",
   "execution_count": null,
   "id": "f016fb5c",
   "metadata": {},
   "outputs": [],
   "source": [
    "x"
   ]
  },
  {
   "cell_type": "code",
   "execution_count": null,
   "id": "a33e3fe7",
   "metadata": {},
   "outputs": [],
   "source": []
  },
  {
   "cell_type": "code",
   "execution_count": null,
   "id": "24af5ef2",
   "metadata": {},
   "outputs": [],
   "source": [
    "x.size,y.size"
   ]
  },
  {
   "cell_type": "code",
   "execution_count": null,
   "id": "62562bd1",
   "metadata": {},
   "outputs": [],
   "source": []
  },
  {
   "cell_type": "code",
   "execution_count": null,
   "id": "a9449739",
   "metadata": {},
   "outputs": [],
   "source": [
    "%matplotlib inline\n",
    "plt.hist(np.log10(preconditioning)[preconditioning<1e8])"
   ]
  },
  {
   "cell_type": "code",
   "execution_count": null,
   "id": "279c69fb",
   "metadata": {},
   "outputs": [],
   "source": [
    "from jax import numpy as jnp\n",
    "\n",
    "hvp= jax.jit( lambda *args,**kwargs: wrapjvpmultipleargs(sf.maxlikefit,[0])( *args,**kwargs,diff='grad',jit=False),static_argnames=['fixuncertainties'])\n",
    "\n",
    "\n"
   ]
  },
  {
   "cell_type": "code",
   "execution_count": null,
   "id": "b90d6525",
   "metadata": {},
   "outputs": [],
   "source": [
    "preconditioning[100]"
   ]
  },
  {
   "cell_type": "code",
   "execution_count": null,
   "id": "6552f25b",
   "metadata": {},
   "outputs": [],
   "source": [
    "\n",
    "np.sqrt(-hvp((np.arange(sf.npar)==i)*1.,x_modelpars,uncertainties,fixuncertainties=True)[i])*preconditioning[i]"
   ]
  },
  {
   "cell_type": "code",
   "execution_count": null,
   "id": "abe3ee8f",
   "metadata": {},
   "outputs": [],
   "source": [
    "np.where(hvp)"
   ]
  },
  {
   "cell_type": "code",
   "execution_count": null,
   "id": "3f115792",
   "metadata": {},
   "outputs": [],
   "source": [
    "193*1e4/1e3/60"
   ]
  },
  {
   "cell_type": "code",
   "execution_count": null,
   "id": "5d408b19",
   "metadata": {},
   "outputs": [],
   "source": [
    "gradprecon=sf.maxlikefit(x_modelpars,uncertainties,fixuncertainties=True,diff='grad',jit=True)"
   ]
  },
  {
   "cell_type": "code",
   "execution_count": null,
   "id": "943290be",
   "metadata": {},
   "outputs": [],
   "source": [
    "%matplotlib inline \n",
    "plt.hist(np.log((np.abs(gradprecon) *preconditioning)[np.nonzero(gradprecon)]))"
   ]
  },
  {
   "cell_type": "code",
   "execution_count": null,
   "id": "46c3a76b",
   "metadata": {},
   "outputs": [],
   "source": [
    "np.percentile((np.abs(gradprecon) *preconditioning)[np.nonzero(gradprecon)],[1,16,50,84,99])"
   ]
  },
  {
   "cell_type": "code",
   "execution_count": null,
   "id": "929a2182",
   "metadata": {},
   "outputs": [],
   "source": []
  },
  {
   "cell_type": "code",
   "execution_count": null,
   "id": "f698d54c",
   "metadata": {},
   "outputs": [],
   "source": [
    "gradpreconjacobian,gradpreconinv= sf.constructoperator(np.nan_to_num(1/np.abs(gradprecon)), np.ones(sf.npar,dtype=bool), X,uncertainties)\n",
    "\n",
    "\n"
   ]
  },
  {
   "cell_type": "code",
   "execution_count": null,
   "id": "a1e7526b",
   "metadata": {},
   "outputs": [],
   "source": [
    "jacobian,preconinv= sf.constructoperator(preconditioning, np.ones(sf.npar,dtype=bool), X,uncertainties)\n"
   ]
  },
  {
   "cell_type": "code",
   "execution_count": null,
   "id": "1797a390",
   "metadata": {},
   "outputs": [],
   "source": [
    "sf.damping['all']=.1"
   ]
  },
  {
   "cell_type": "code",
   "execution_count": null,
   "id": "50732532",
   "metadata": {},
   "outputs": [],
   "source": [
    "sf.iteratedampings('all',X,jacobian, preconinv,resids ,lsqwrapargs=[[uncertainties],{}],)"
   ]
  },
  {
   "cell_type": "code",
   "execution_count": null,
   "id": "5f153742",
   "metadata": {},
   "outputs": [],
   "source": [
    "sf.gaussNewtonFit(X,gradpreconjacobian,gradpreconinv,resids ,0.18,[[uncertainties],{}])"
   ]
  },
  {
   "cell_type": "code",
   "execution_count": null,
   "id": "c0c1d1a9",
   "metadata": {},
   "outputs": [],
   "source": [
    "np.isnan(gradpreconjacobian @ np.random.normal(size=sf.npar)).any()"
   ]
  },
  {
   "cell_type": "code",
   "execution_count": null,
   "id": "9140f0a6",
   "metadata": {},
   "outputs": [],
   "source": [
    "sf.damping"
   ]
  },
  {
   "cell_type": "code",
   "execution_count": null,
   "id": "1f2519fa",
   "metadata": {},
   "outputs": [],
   "source": [
    "sf.iteratedampings('all',X,gradpreconjacobian,gradpreconinv,resids ,lsqwrapargs=[[uncertainties],{}],)"
   ]
  },
  {
   "cell_type": "code",
   "execution_count": null,
   "id": "29e525d3",
   "metadata": {},
   "outputs": [],
   "source": [
    "(gradprecon**2)*preco"
   ]
  },
  {
   "cell_type": "code",
   "execution_count": null,
   "id": "70993c95",
   "metadata": {},
   "outputs": [],
   "source": [
    "preconditioning=1/jac**2"
   ]
  },
  {
   "cell_type": "code",
   "execution_count": null,
   "id": "e2a0954c",
   "metadata": {},
   "outputs": [],
   "source": [
    "hvpresults= hvp(np.ones(sf.npar),x_modelpars,uncertainties,fixuncertainties=True)"
   ]
  },
  {
   "cell_type": "code",
   "execution_count": null,
   "id": "d3780747",
   "metadata": {},
   "outputs": [],
   "source": [
    "np.sqrt(np.abs(hvpresults))*preconditioning"
   ]
  },
  {
   "cell_type": "code",
   "execution_count": null,
   "id": "2dc9e7bb",
   "metadata": {},
   "outputs": [],
   "source": [
    "(gradprecon**2)/ preconditioning"
   ]
  },
  {
   "cell_type": "code",
   "execution_count": null,
   "id": "262b6e2c",
   "metadata": {},
   "outputs": [],
   "source": [
    "# gradprecon=graddot(x_modelpars,uncertainties,fixuncertainties=True)"
   ]
  },
  {
   "cell_type": "code",
   "execution_count": null,
   "id": "93cab9e0",
   "metadata": {},
   "outputs": [],
   "source": [
    "preconditioning/gradprecon"
   ]
  },
  {
   "cell_type": "code",
   "execution_count": null,
   "id": "a60889d4",
   "metadata": {},
   "outputs": [],
   "source": [
    "X=x_modelpars"
   ]
  },
  {
   "cell_type": "code",
   "execution_count": null,
   "id": "87e1a5fb",
   "metadata": {},
   "outputs": [],
   "source": [
    "import jax\n",
    "def wrapjvpmultipleargs(fun,argnums):\n",
    "    if len(argnums)>1: raise NotImplementedError('Wrapped jacobian-vector products differentiated w.r.t. multiple arguments have not been implemented')\n",
    "    diffargidx=argnums[0]\n",
    "    return lambda vec, *args,**kwargs: jax.jvp(\n",
    "        lambda x: fun(*args[:diffargidx],x,*args[diffargidx+1:],**kwargs)\n",
    "\n",
    "                     ,[args[diffargidx]], [vec])[1]\n",
    "\n"
   ]
  },
  {
   "cell_type": "code",
   "execution_count": null,
   "id": "2d3fbcf3",
   "metadata": {},
   "outputs": [],
   "source": [
    "sf.maxlikefit(x_modelpars,uncertainties,fixuncertainties=True,diff='grad')"
   ]
  },
  {
   "cell_type": "code",
   "execution_count": null,
   "id": "e9f53f3f",
   "metadata": {},
   "outputs": [],
   "source": [
    "saltfit=reload(saltfit)\n",
    "# sf.evalpreconditioningscales= lambda *args,**kwargs: saltfit.GaussNewton.evalpreconditioningscales(sf,*args,**kwargs)\n",
    "sf.preconditioningscales= lambda *args,**kwargs: saltfit.GaussNewton.preconditioningscales(sf,*args,**kwargs)\n",
    "sf.constructoperator= lambda *args,**kwargs: saltfit.GaussNewton.constructoperator(sf,*args,**kwargs)\n",
    "sf.iteratedampings= lambda *args,**kwargs: saltfit.GaussNewton.iteratedampings(sf,*args,**kwargs)\n",
    "sf.gaussNewtonFit= lambda *args,**kwargs: saltfit.GaussNewton.gaussNewtonFit(sf,*args,**kwargs)\n",
    "sf.process_fit= lambda *args,**kwargs: saltfit.GaussNewton.process_fit(sf,*args,**kwargs)"
   ]
  },
  {
   "cell_type": "code",
   "execution_count": null,
   "id": "4715a066",
   "metadata": {},
   "outputs": [],
   "source": [
    "preconditioning= sf.preconditioningscales( np.arange(sf.npar)<sf.npar,X,uncertainties)\n"
   ]
  },
  {
   "cell_type": "code",
   "execution_count": null,
   "id": "c7002b9a",
   "metadata": {},
   "outputs": [],
   "source": [
    "{ ('as',3):10}"
   ]
  },
  {
   "cell_type": "code",
   "execution_count": null,
   "id": "40eaaa55",
   "metadata": {},
   "outputs": [],
   "source": []
  },
  {
   "cell_type": "code",
   "execution_count": null,
   "id": "6c3cfa4b",
   "metadata": {},
   "outputs": [],
   "source": [
    "sf.preconditioningchunksize=10"
   ]
  },
  {
   "cell_type": "code",
   "execution_count": null,
   "id": "ab780478",
   "metadata": {},
   "outputs": [],
   "source": [
    "sf.cachedpreconevalfuns={}"
   ]
  },
  {
   "cell_type": "code",
   "execution_count": null,
   "id": "74f3a30b",
   "metadata": {},
   "outputs": [],
   "source": [
    "sf.preconditioningscales( np.arange(sf.npar)<103,X,uncertainties)\n",
    "\n",
    "# jacobian,preconinv= sf.constructoperator(preconditioning, varyingParams, X,uncertainties)\n"
   ]
  },
  {
   "cell_type": "code",
   "execution_count": null,
   "id": "72330a59",
   "metadata": {},
   "outputs": [],
   "source": [
    "uncertainties=sf.calculatecachedvals(x_modelpars,target='variances')\n",
    "\n",
    "result=sf.process_fit(X,sf.iModelParam,uncertainties)"
   ]
  },
  {
   "cell_type": "code",
   "execution_count": null,
   "id": "9e7fb049",
   "metadata": {},
   "outputs": [],
   "source": [
    "sf.damping \n"
   ]
  },
  {
   "cell_type": "code",
   "execution_count": null,
   "id": "99c71d58",
   "metadata": {},
   "outputs": [],
   "source": [
    "sf.iteratedampings('all',X,jacobian,preconinv,residuals,([uncertainties],{}))"
   ]
  },
  {
   "cell_type": "code",
   "execution_count": null,
   "id": "3c79c38f",
   "metadata": {},
   "outputs": [],
   "source": [
    "result=sf.iteratedampings(X,jacobian,preconinv,residuals)"
   ]
  },
  {
   "cell_type": "code",
   "execution_count": null,
   "id": "af1669f6",
   "metadata": {},
   "outputs": [],
   "source": [
    "uncertainties=sf.calculatecachedvals(x_modelpars,target='variances')"
   ]
  },
  {
   "cell_type": "code",
   "execution_count": null,
   "id": "e10534a5",
   "metadata": {},
   "outputs": [],
   "source": [
    "X=x_modelpars.copy()\n",
    "varyingParams=sf.iModelParam\n",
    "\n",
    "residuals=sf.lsqwrap(X,uncertainties)\n",
    "oldChi=(residuals**2).sum()\n",
    "\n",
    "\n",
    "\n"
   ]
  },
  {
   "cell_type": "code",
   "execution_count": null,
   "id": "c82f2e12",
   "metadata": {},
   "outputs": [],
   "source": [
    "oldChi"
   ]
  },
  {
   "cell_type": "code",
   "execution_count": null,
   "id": "38ec02c2",
   "metadata": {},
   "outputs": [],
   "source": []
  },
  {
   "cell_type": "code",
   "execution_count": null,
   "id": "7759f62b",
   "metadata": {},
   "outputs": [],
   "source": [
    "tol=1e-8\n",
    "\n",
    "result=sprslinalg.lsmr(jacobian,residuals,damp=.5,atol=tol,btol=tol)\n",
    "\n",
    "gaussNewtonStep= preconinv(result[0])\n"
   ]
  },
  {
   "cell_type": "code",
   "execution_count": null,
   "id": "b03c29a2",
   "metadata": {},
   "outputs": [],
   "source": []
  },
  {
   "cell_type": "code",
   "execution_count": null,
   "id": "142177b6",
   "metadata": {},
   "outputs": [],
   "source": []
  },
  {
   "cell_type": "code",
   "execution_count": null,
   "id": "2f9380b1",
   "metadata": {},
   "outputs": [],
   "source": [
    "postGN=(sf.lsqwrap(X-gaussNewtonStep,uncertainties)**2).sum() #\n",
    "oldChi,postGN,oldChi-postGN"
   ]
  },
  {
   "cell_type": "code",
   "execution_count": null,
   "id": "914d2e0b",
   "metadata": {},
   "outputs": [],
   "source": [
    "kwargs={}\n",
    "\n",
    "prevresult=result\n",
    "currentresids=sf.lsqwrap(X-gaussNewtonStep,uncertainties,**kwargs)\n",
    "prevresids=residuals\n",
    "prevstep=gaussNewtonStep.copy()\n",
    "currentchi2=(currentresids**2).sum()\n"
   ]
  },
  {
   "cell_type": "code",
   "execution_count": null,
   "id": "17bc463e",
   "metadata": {},
   "outputs": [],
   "source": [
    "jacobian,_= sf.constructoperator(preconditioning, varyingParams, X-prevstep,uncertainties, **kwargs)\n",
    "\n",
    "currentresult=sprslinalg.lsmr(jacobian,currentresids,damp=.5,atol=tol,btol=tol)\n",
    "precondstep,stopsignal,itn,normr,normar,norma,conda,normx=currentresult\n",
    "\n",
    "currentstep=prevstep + preconinv(precondstep)\n"
   ]
  },
  {
   "cell_type": "code",
   "execution_count": null,
   "id": "8fd01372",
   "metadata": {},
   "outputs": [],
   "source": [
    "nextresids=sf.lsqwrap(X-currentstep,uncertainties,**kwargs)\n",
    "nextchi2=(nextresids**2).sum()\n",
    "chi2improvement=currentchi2-nextchi2\n",
    "nextchi2,chi2improvement\n"
   ]
  },
  {
   "cell_type": "code",
   "execution_count": null,
   "id": "0383d300",
   "metadata": {},
   "outputs": [],
   "source": [
    "((currentresids-(jacobian@precondstep))**2).sum(),(currentresids**2).sum()"
   ]
  },
  {
   "cell_type": "code",
   "execution_count": null,
   "id": "8d6c7c31",
   "metadata": {},
   "outputs": [],
   "source": []
  },
  {
   "cell_type": "code",
   "execution_count": null,
   "id": "d95787d0",
   "metadata": {},
   "outputs": [],
   "source": [
    "fit='all'\n",
    "scale=1.5\n",
    "result=iteratedampings(jacobian,preconinv,residuals,.5)"
   ]
  },
  {
   "cell_type": "code",
   "execution_count": null,
   "id": "06ef2cd8",
   "metadata": {},
   "outputs": [],
   "source": [
    "result.gaussNewtonStep"
   ]
  },
  {
   "cell_type": "code",
   "execution_count": null,
   "id": "468f3410",
   "metadata": {},
   "outputs": [],
   "source": [
    "np.where(~np.isclose(sf.lsqwrap(X-prevstep- preconinv(precondstep)*delta,uncertainties),currentresids+(-sf.lsqwrap(X-prevstep,uncertainties,diff='jvp')(preconinv(precondstep)* delta ))\n",
    "          \n",
    "          \n",
    "          ))"
   ]
  },
  {
   "cell_type": "code",
   "execution_count": null,
   "id": "1540de6d",
   "metadata": {},
   "outputs": [],
   "source": []
  },
  {
   "cell_type": "code",
   "execution_count": null,
   "id": "3ff577b6",
   "metadata": {},
   "outputs": [],
   "source": [
    "sf.lsqwrap(X,uncertainties,jit=False,diff='jvp')(np.random.normal(size=sf.npar))"
   ]
  },
  {
   "cell_type": "code",
   "execution_count": null,
   "id": "521d20df",
   "metadata": {},
   "outputs": [],
   "source": [
    "import jax\n",
    "from jax import numpy as jnp\n",
    "preconscales=(jax.vmap(lambda i: 1/jnp.sqrt((sf.lsqwrap(X,uncertainties,jit=True,diff='jvp')(jnp.zeros(sf.npar).at[i].set(1.))**2).sum())))\n",
    "\n",
    "\n"
   ]
  },
  {
   "cell_type": "code",
   "execution_count": null,
   "id": "83a10f8f",
   "metadata": {},
   "outputs": [],
   "source": [
    "%timeit preconscales( np.arange(10))"
   ]
  },
  {
   "cell_type": "code",
   "execution_count": null,
   "id": "747adbae",
   "metadata": {},
   "outputs": [],
   "source": [
    "preconscales=(jax.vmap(lambda i: 1/jnp.sqrt((sf.lsqwrap(X,uncertainties,usespec=False,jit=True,diff='jvp')(jnp.zeros(sf.npar).at[i].set(1.))**2).sum())))\n",
    "%timeit preconscales( np.arange(10))"
   ]
  },
  {
   "cell_type": "code",
   "execution_count": null,
   "id": "00472f04",
   "metadata": {},
   "outputs": [],
   "source": [
    "%timeit [((sf.lsqwrap(X,uncertainties,jit=True,diff='jvp'))((np.arange(sf.npar)==i)*1.)**2).sum() for i in range(10)]"
   ]
  },
  {
   "cell_type": "code",
   "execution_count": null,
   "id": "54275b32",
   "metadata": {},
   "outputs": [],
   "source": []
  },
  {
   "cell_type": "code",
   "execution_count": null,
   "id": "e30d0c41",
   "metadata": {},
   "outputs": [],
   "source": [
    "np.arange(preconscales())"
   ]
  },
  {
   "cell_type": "code",
   "execution_count": null,
   "id": "2acdc4e5",
   "metadata": {},
   "outputs": [],
   "source": [
    "\n",
    "delta=.2\n",
    "(sf.lsqwrap(X-prevstep- preconinv(precondstep)*delta,uncertainties)**2).sum()"
   ]
  },
  {
   "cell_type": "code",
   "execution_count": null,
   "id": "f8e6fb93",
   "metadata": {},
   "outputs": [],
   "source": [
    "((currentresids+(-sf.lsqwrap(X-prevstep,uncertainties,diff='jvp')(preconinv(precondstep)* delta )))**2).sum()"
   ]
  },
  {
   "cell_type": "code",
   "execution_count": null,
   "id": "531f95a1",
   "metadata": {},
   "outputs": [],
   "source": [
    "%timeit sf.linesearch(X,gaussNewtonStep,uncertainties)  "
   ]
  },
  {
   "cell_type": "code",
   "execution_count": null,
   "id": "6dea5b1a",
   "metadata": {},
   "outputs": [],
   "source": [
    "np.std(resids)"
   ]
  },
  {
   "cell_type": "code",
   "execution_count": 1,
   "id": "e1704249",
   "metadata": {},
   "outputs": [],
   "source": [
    "import os\n",
    "from os import path\n"
   ]
  },
  {
   "cell_type": "code",
   "execution_count": 2,
   "id": "91a08dfd",
   "metadata": {},
   "outputs": [],
   "source": [
    "dir='output/'\n",
    "for file in os.listdir(dir):\n",
    "    os.rename(path.join(dir,file), path.join( dir,file.replace('M','').replace('10','01')))\n"
   ]
  },
  {
   "cell_type": "code",
   "execution_count": 4,
   "id": "d9cbc86b",
   "metadata": {},
   "outputs": [],
   "source": [
    "# with open('output/salt3_lc_covariance_01.dat','r') as file:\n",
    "#     text=file.read()"
   ]
  },
  {
   "cell_type": "code",
   "execution_count": 5,
   "id": "243ee29a",
   "metadata": {},
   "outputs": [
    {
     "name": "stderr",
     "output_type": "stream",
     "text": [
      "100%|██████████████████████████████████████████████████████████████████████████████████████████████████████████████████████████████████████████████| 2213975/2213975 [00:00<00:00, 2515420.34it/s]\n"
     ]
    }
   ],
   "source": [
    "from tqdm import tqdm\n",
    "out=''\n",
    "count=-1\n",
    "for char in tqdm(text):\n",
    "    if count> 0: count-=1\n",
    "    if char=='e': count=4\n",
    "    if count==0: \n",
    "        count=-1\n",
    "        out+='\\n'\n",
    "    out+=char\n"
   ]
  },
  {
   "cell_type": "code",
   "execution_count": 6,
   "id": "37ed4458",
   "metadata": {},
   "outputs": [],
   "source": [
    "with open('output/salt3_lc_covariance_01.dat','w') as file:\n",
    "    file.write(out)"
   ]
  },
  {
   "cell_type": "code",
   "execution_count": null,
   "id": "1bca51cb",
   "metadata": {},
   "outputs": [],
   "source": []
  }
 ],
 "metadata": {
  "kernelspec": {
   "display_name": "Python [conda env:salt]",
   "language": "python",
   "name": "conda-env-salt-py"
  },
  "language_info": {
   "codemirror_mode": {
    "name": "ipython",
    "version": 3
   },
   "file_extension": ".py",
   "mimetype": "text/x-python",
   "name": "python",
   "nbconvert_exporter": "python",
   "pygments_lexer": "ipython3",
   "version": "3.10.9"
  }
 },
 "nbformat": 4,
 "nbformat_minor": 5
}
